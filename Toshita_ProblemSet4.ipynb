{
 "cells": [
  {
   "cell_type": "code",
   "execution_count": 46,
   "metadata": {},
   "outputs": [
    {
     "name": "stdin",
     "output_type": "stream",
     "text": [
      "Enter an artist name or enter done to exit:  Adam levine\n"
     ]
    },
    {
     "name": "stdout",
     "output_type": "stream",
     "text": [
      "Retrieving https://musicbrainz.org/ws/2/artist?query=%Adam%levine&fmt=json\n",
      "Artist Name: 400+\n",
      "Artist Type: Person\n"
     ]
    },
    {
     "name": "stdin",
     "output_type": "stream",
     "text": [
      "Enter an artist name or enter done to exit:  ed sheeran\n"
     ]
    },
    {
     "name": "stdout",
     "output_type": "stream",
     "text": [
      "Retrieving https://musicbrainz.org/ws/2/artist?query=%ed%sheeran&fmt=json\n",
      "Artist Name: 400+\n",
      "Artist Type: Person\n"
     ]
    },
    {
     "name": "stdin",
     "output_type": "stream",
     "text": [
      "Enter an artist name or enter done to exit:  done\n"
     ]
    },
    {
     "name": "stdout",
     "output_type": "stream",
     "text": [
      "Goodbye\n",
      "Your search included:\n",
      "2 persons\n",
      "0 groups\n",
      "0 orchestras\n",
      "0 choirs\n",
      "0 characters\n",
      "0 others\n"
     ]
    }
   ],
   "source": [
    "import urllib.request, urllib.parse, urllib.error\n",
    "import json\n",
    "\n",
    "#Base API url\n",
    "serviceurl = 'https://musicbrainz.org/ws/2/'\n",
    "\n",
    "#Setting up counts for search summary (one count for each type of artist)\n",
    "g_count = 0  #group\n",
    "p_count = 0  #person\n",
    "orc_count = 0  #orchestra\n",
    "cho_count = 0  #choir\n",
    "cha_count = 0  #character\n",
    "oth_count = 0  #other\n",
    "\n",
    "#User input statement\n",
    "while True:\n",
    "    artist = input('Enter an artist name or enter done to exit: ')\n",
    "    if len(artist) < 1:\n",
    "        print('Name not valid, try again')\n",
    "        continue\n",
    "    if artist == 'done': \n",
    "        print('Goodbye')\n",
    "        break\n",
    "\n",
    "#Retrieving creating url and API string \n",
    "    try:\n",
    "        url = serviceurl + 'artist?query=%' + artist.replace(\" \",\"%\") + '&fmt=json'\n",
    "        print('Retrieving', url)\n",
    "\n",
    "        fhand = urllib.request.urlopen(url)\n",
    "        data = fhand.read()\n",
    "    except:\n",
    "        print('Failed to retrieve')\n",
    "\n",
    "#Prep to pull info from json\n",
    "    try:\n",
    "        js = json.loads(data)\n",
    "    except:\n",
    "        js = None\n",
    "        print('Invalid json')\n",
    "        break\n",
    "\n",
    "#Printing name and type of first search result based on user's input \n",
    "    try:\n",
    "        print('Artist Name:', js['artists'][0]['name'])\n",
    "        print('Artist Type:', js['artists'][0]['type'])\n",
    "    except:\n",
    "        print('Artist not found, try again')\n",
    "        continue\n",
    "\n",
    "#Counting the types of artists for search summary\n",
    "    if js['artists'][0]['type'] == 'Person':\n",
    "        p_count = p_count + 1\n",
    "    elif js['artists'][0]['type'] == 'Group':\n",
    "        g_count = g_count + 1\n",
    "    elif js['artists'][0]['type'] == 'Choir':\n",
    "        cho_count = cho_count + 1\n",
    "    elif js['artists'][0]['type'] == 'Orchestra':\n",
    "        orc_count = orc_count + 1\n",
    "    elif js['artists'][0]['type'] == 'Character':\n",
    "        cha_count = cha_count + 1\n",
    "    elif js['artists'][0]['type'] == 'Other':\n",
    "        oth_count = oth_count + 1\n",
    "\n",
    "#Printing search summary\n",
    "print('Your search included:')         \n",
    "print(f\"{p_count} persons\")\n",
    "print(f\"{g_count} groups\")\n",
    "print(f\"{orc_count} orchestras\") \n",
    "print(f\"{cho_count} choirs\")\n",
    "print(f\"{cha_count} characters\") \n",
    "print(f\"{oth_count} others\")\n"
   ]
  }
 ],
 "metadata": {
  "kernelspec": {
   "display_name": "Python 3.8 (full)",
   "language": "python",
   "name": "python3-3.8-ufrc"
  },
  "language_info": {
   "codemirror_mode": {
    "name": "ipython",
    "version": 3
   },
   "file_extension": ".py",
   "mimetype": "text/x-python",
   "name": "python",
   "nbconvert_exporter": "python",
   "pygments_lexer": "ipython3",
   "version": "3.8.5"
  }
 },
 "nbformat": 4,
 "nbformat_minor": 4
}
